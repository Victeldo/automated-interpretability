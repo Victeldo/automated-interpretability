{
 "cells": [
  {
   "cell_type": "code",
   "execution_count": null,
   "metadata": {
    "vscode": {
     "languageId": "plaintext"
    }
   },
   "outputs": [],
   "source": [
    "%load_ext autoreload\n",
    "%autoreload 2"
   ]
  },
  {
   "cell_type": "code",
   "execution_count": null,
   "metadata": {
    "vscode": {
     "languageId": "plaintext"
    }
   },
   "outputs": [],
   "source": [
    "import os\n",
    "import json\n",
    "\n",
    "# Optionally set your API key if needed:\n",
    "os.environ[\"ANTHROPIC_API_KEY\"] = \"YOUR-API-KEY\"\n",
    "\n",
    "from neuron_explainer.activations.activation_records import calculate_max_activation\n",
    "from neuron_explainer.activations.activations import ActivationRecordSliceParams, load_neuron\n",
    "from neuron_explainer.explanations.calibrated_simulator import UncalibratedNeuronSimulator, LinearCalibratedNeuronSimulator\n",
    "from neuron_explainer.explanations.prompt_builder import PromptFormat\n",
    "from neuron_explainer.explanations.scoring import simulate_and_score\n",
    "from neuron_explainer.explanations.simulator import LogprobFreeExplanationTokenSimulator\n",
    "\n",
    "SIMULATOR_MODEL_NAME = \"claude-3-7-sonnet-20250219\"\n",
    "# SIMULATOR_MODEL_NAME = \"claude-3-5-haiku-20241022\"\n",
    "\n",
    "layer = 0\n",
    "index = 0\n",
    "neuronfile = str(index) + \".jsonl\"\n",
    "\n",
    "# Load a neuron record. (should match the existing one)\n",
    "neuron_record = load_neuron(layer, index)\n",
    "\n",
    "# Grab the activation records we'll need.\n",
    "slice_params = ActivationRecordSliceParams(n_examples_per_split=5)\n",
    "train_activation_records = neuron_record.train_activation_records(\n",
    "    activation_record_slice_params=slice_params\n",
    ")\n",
    "valid_activation_records = neuron_record.valid_activation_records(\n",
    "    activation_record_slice_params=slice_params\n",
    ")\n",
    "\n",
    "# Instead of generating an explanation, load it from the JSONL file.\n",
    "with open(neuronfile, \"r\") as f:\n",
    "    # Read the first line (assuming it contains our explanation object).\n",
    "    line = f.readline()\n",
    "    data = json.loads(line)\n",
    "    # Extract the explanation. Adjust the keys based on your JSONL structure.\n",
    "    explanation = data[\"scored_explanations\"][0][\"explanation\"]\n",
    "\n",
    "explanations = [explanation]\n",
    "print(f\"{explanation=}\")\n",
    "\n",
    "# Simulate and score the explanation.\n",
    "simulator = LinearCalibratedNeuronSimulator(\n",
    "    LogprobFreeExplanationTokenSimulator(\n",
    "        SIMULATOR_MODEL_NAME,\n",
    "        explanation,\n",
    "        max_concurrent=1,\n",
    "        prompt_format=PromptFormat.INSTRUCTION_FOLLOWING,\n",
    "    )\n",
    ")\n",
    "await simulator.calibrate(train_activation_records)\n",
    "\n",
    "scored_simulation = await simulate_and_score(simulator, valid_activation_records)\n",
    "print(f\"score={scored_simulation.get_preferred_score():.2f}\")"
   ]
  }
 ],
 "metadata": {
  "language_info": {
   "name": "python"
  }
 },
 "nbformat": 4,
 "nbformat_minor": 2
}
